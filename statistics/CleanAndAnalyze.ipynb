{
 "cells": [
  {
   "cell_type": "markdown",
   "metadata": {},
   "source": [
    "# Importing the packages"
   ]
  },
  {
   "cell_type": "code",
   "execution_count": null,
   "metadata": {},
   "outputs": [],
   "source": [
    "import numpy as np\n",
    "import pandas as pd\n",
    "from scipy import stats\n",
    "from statsmodels.multivariate.manova import MANOVA\n",
    "import seaborn as sns\n",
    "import statsmodels.api as sm"
   ]
  },
  {
   "cell_type": "markdown",
   "metadata": {},
   "source": [
    "# Pre-analysis\n",
    "## Basic variables"
   ]
  },
  {
   "cell_type": "code",
   "execution_count": null,
   "metadata": {},
   "outputs": [],
   "source": [
    "dir_experiment1 = \"../datasets/experiment1.csv\"\n",
    "dir_experiment2 = \"../datasets/experiment2.csv\"\n",
    "dir_experiment3 = \"../datasets/experiment3.csv\"\n",
    "\n",
    "dependandt = [\"area_bbox\", \"x_displacement\", \"y_displacement\", \"x_error\", \"y_error\", \"elapsed_time\", \"fps\"]\n",
    "independant = [\"x_speed\", \"y_speed\", \"method\"]\n",
    "plot_vars = dependandt + independant[:len(independant)-1]\n",
    "\n",
    "type_dict = {\"area_bbox\" : 'float64', \"x_displacement\" : 'float64', \"y_displacement\": 'float64', \"x_error\" : 'float64', \"y_error\" : 'float64', \"elapsed_time\": 'float64', \"fps\": 'float64', \"x_speed\": 'float64', \"y_speed\": 'float64', \"method\": 'category'}\n",
    "\n",
    "method_dict = {0: \"\", 1: \"\", 2: \"\"}\n",
    "\n",
    "exp_dict = {0: \"\", 1: \"\", 2: \"\"}\n",
    "\n",
    "alpha = 0.01"
   ]
  },
  {
   "cell_type": "markdown",
   "metadata": {},
   "source": [
    "## Reading the datasets"
   ]
  },
  {
   "cell_type": "code",
   "execution_count": null,
   "metadata": {},
   "outputs": [],
   "source": [
    "experiment1 = pd.read_csv(dir_experiment1, sep=\",\")\n",
    "experiment2 = pd.read_csv(dir_experiment2, sep=\",\")\n",
    "experiment3 = pd.read_csv(dir_experiment3, sep=\",\")\n",
    "exp_list = [experiment1, experiment2, experiment3]"
   ]
  },
  {
   "cell_type": "markdown",
   "metadata": {},
   "source": [
    "## Convert columns to the adequate type and drop NA's"
   ]
  },
  {
   "cell_type": "code",
   "execution_count": null,
   "metadata": {},
   "outputs": [],
   "source": [
    "for i in range(0,len(exp_list)):\n",
    "    exp_list[i] = exp_list[i].astype(type_dict)\n",
    "    exp_list[i] = exp_list[i].dropna(0)"
   ]
  },
  {
   "cell_type": "markdown",
   "metadata": {},
   "source": [
    "# Initial analysis"
   ]
  },
  {
   "cell_type": "markdown",
   "metadata": {},
   "source": [
    "## Descriptive statistics"
   ]
  },
  {
   "cell_type": "code",
   "execution_count": null,
   "metadata": {},
   "outputs": [],
   "source": [
    "for i in range(0,len(exp_list)):\n",
    "    exp_list[i].describe()"
   ]
  },
  {
   "cell_type": "markdown",
   "metadata": {},
   "source": [
    "## Scatter matrix"
   ]
  },
  {
   "cell_type": "code",
   "execution_count": null,
   "metadata": {},
   "outputs": [],
   "source": [
    "for i in range(0, len(exp_list)):\n",
    "    scatter = sns.pairplot(exp_list.loc[:,], hue=\"method\")\n",
    "    scatter = scatter.set(title=f\"Scatter plot for experiment {exp_dict[i]}\")\n",
    "    scatter.savefig(f\"scatter_{exp_dict[i]}.png\", dpi=300)"
   ]
  },
  {
   "cell_type": "markdown",
   "metadata": {},
   "source": [
    "## Normality check\n",
    "### Shapiro-Wilkinson test\n",
    "\n",
    "A Shapiro-Wilkinson test is performed to check the normality of the sample obtained"
   ]
  },
  {
   "cell_type": "code",
   "execution_count": null,
   "metadata": {},
   "outputs": [],
   "source": [
    "for i in range(0, len(exp_list)):\n",
    "    method1 = exp_list[i].loc[exp_list[i].loc[\"method\"] == 1,:]\n",
    "    print(f\" - Results of the Shapiro-Wilkinson test for the experiment {exp_dict[i]} with the method {method_dict[0]}: \\n            {stats.shapiro(method1)}\")\n",
    "    method2 = exp_list[i].loc[exp_list[i].loc[\"method\"] == 2,:]\n",
    "    print(f\" - Results of the Shapiro-Wilkinson test for the experiment {exp_dict[i]} with the method {method_dict[1]}: \\n            {stats.shapiro(method2)}\")\n",
    "    method3 = exp_list[i].loc[exp_list[i].loc[\"method\"] == 3,:]\n",
    "    print(f\" - Results of the Shapiro-Wilkinson test for the experiment {exp_dict[i]} with the method {method_dict[2]}: \\n            {stats.shapiro(method3)}\")\n"
   ]
  },
  {
   "cell_type": "markdown",
   "metadata": {},
   "source": [
    "### QQ-plot"
   ]
  },
  {
   "cell_type": "code",
   "execution_count": null,
   "metadata": {},
   "outputs": [],
   "source": [
    "for i in range(0, len(exp_list)):\n",
    "    m1 = exp_list[i].loc[exp_list[i].loc[\"method\"] == 1,:]\n",
    "    cov1 = np.cov(m1)\n",
    "    icov1 = np.linalg.inv(cov1)\n",
    "    left_term1 = np.dot((m1 - np.mean(m1)),icov1)\n",
    "    total1 = np.dot(left_term1, (m1 - np.mean(m1)).T)\n",
    "    mahalab1 = np.diag(total1)\n",
    "    chi1 = np.random.chisquare(9, m1.shape[0])\n",
    "    data1 = pd.DataFrame({\"mahalab\": mahalab1, \"chi\": chi1} )\n",
    "    scatt1 = sns.scatterplot(x=\"chi\", data=data1, y=\"mahalab\")\n",
    "    scatt1.set(title=f\"QQ-plot for the experiment {exp_dict[i]} with the method {method_dict[0]}\")\n",
    "    scatt1.savefig(f\"qqplot_exp{i}_m1.png\", dpi=300)\n",
    "\n",
    "    m2 = exp_list[i].loc[exp_list[i].loc[\"method\"] == 2,:]\n",
    "    cov2 = np.cov(m2)\n",
    "    icov2 = np.linalg.inv(cov2)\n",
    "    left_term2 = np.dot((m2 - np.mean(m2)),icov2)\n",
    "    total2 = np.dot(left_term2, (m2 - np.mean(m2)).T)\n",
    "    mahalab2 = np.diag(total2)\n",
    "    chi2 = np.random.chisquare(9, m2.shape[0])\n",
    "    data2 = pd.DataFrame({\"mahalab\": mahalab2, \"chi\": chi2} )\n",
    "    scatt2 = sns.scatterplot(x=\"chi\", data=data2, y=\"mahalab\")\n",
    "    scatt2.set(title=f\"QQ-plot for the experiment {exp_dict[i]} with the method {method_dict[1]}\")\n",
    "    scatt2.savefig(f\"qqplot_exp{i}_m2.png\", dpi=300)\n",
    "\n",
    "    m3 = exp_list[i].loc[exp_list[i].loc[\"method\"] == 3,:]\n",
    "    cov3 = np.cov(m3)\n",
    "    icov3 = np.linalg.inv(cov3)\n",
    "    left_term3 = np.dot((m3 - np.mean(m3)),icov3)\n",
    "    total3 = np.dot(left_term3, (m3 - np.mean(m3)).T)\n",
    "    mahalab3 = np.diag(total3)\n",
    "    chi3 = np.random.chisquare(9, m3.shape[0])\n",
    "    data3 = pd.DataFrame({\"mahalab\": mahalab3, \"chi\": chi3} )\n",
    "    scatt3 = sns.scatterplot(x=\"chi\", data=data3, y=\"mahalab\")\n",
    "    scatt3.set(title=f\"QQ-plot for the experiment {exp_dict[i]} with the method {method_dict[2]}\")\n",
    "    scatt3.savefig(f\"qqplot_exp{i}_m3.png\", dpi=300)"
   ]
  },
  {
   "cell_type": "markdown",
   "metadata": {},
   "source": [
    "## Tests\n",
    "### MANOVA\n",
    "Performing MANOVA test"
   ]
  },
  {
   "cell_type": "code",
   "execution_count": null,
   "metadata": {},
   "outputs": [],
   "source": []
  },
  {
   "cell_type": "markdown",
   "metadata": {},
   "source": [
    "### Performing a Barttlet test between both populations\n",
    "\n",
    "#### With a Barttlet test we can check whether the covariances can be considered equal. In case they can be considered equal, a test will be performed to check whether the mean can also be considered equal or not in the case of equal covariances. Elsewhere, the test will be performed for the case of unequal covariances matrices."
   ]
  },
  {
   "cell_type": "code",
   "execution_count": null,
   "metadata": {},
   "outputs": [],
   "source": [
    "for i in range(0, len(exp_list)):\n",
    "    ####################################################################################################\n",
    "    ## Declare the datasets for each method\n",
    "    m1 = exp_list[i].loc[exp_list[i].loc[\"method\"] == 1,:]\n",
    "    m2 = exp_list[i].loc[exp_list[i].loc[\"method\"] == 2,:]\n",
    "    m3 = exp_list[i].loc[exp_list[i].loc[\"method\"] == 3,:]\n",
    "\n",
    "    ####################################################################################################\n",
    "    ## Obtain covariance and other relevant variables\n",
    "    cov1 = np.cov(m1)\n",
    "    cov2 = np.cov(m2)\n",
    "    cov3 = np.cov(m3)\n",
    "\n",
    "    n1 = m1.shape[0]\n",
    "    n2 = m2.shape[0]\n",
    "    n3 = m3.shape[0]\n",
    "    p = cov1.shape[0]\n",
    "\n",
    "    Sp12 = ((n1 - 1)*cov1 + (n2 - 1)*cov2)/(n1 + n2 - 2)\n",
    "    Sp13 = ((n1 - 1)*cov1 + (n3 - 1)*cov3)/(n1 + n3 - 2)\n",
    "    Sp23 = ((n3 - 1)*cov3 + (n2 - 1)*cov2)/(n3 + n2 - 2)\n",
    "\n",
    "    equalCov12 = False\n",
    "    equalCov13 = False\n",
    "    equalCov23 = False\n",
    "\n",
    "    ####################################################################################################\n",
    "    ## Barttlet test\n",
    "    c12 = 1 - ((2*p^2 + 3*p - 1)/(6*(p + 1))) * ((1/(n1-1)) + (1/(n1-1)) - (1/(n1+n2-1)))\n",
    "    L12 = c12 * ((n1 + n2 - 2)*np.log(np.linalg.det(Sp12)) - (n1-1)*np.log(np.linalg.det(cov1)) - (n2-1)*np.log(np.linalg.det(cov2)))\n",
    "    c23 = 1 - ((2*p^2 + 3*p - 1)/(6*(p + 1))) * ((1/(n2-1)) + (1/(n3-1)) - (1/(n3+n2-1)))\n",
    "    L23 = c23 * ((n2 + n3 - 2)*np.log(np.linalg.det(Sp23)) - (n2-1)*np.log(np.linalg.det(cov2)) - (n3-1)*np.log(np.linalg.det(cov3)))\n",
    "    c13 = 1 - ((2*p^2 + 3*p - 1)/(6*(p + 1))) * ((1/(n1-1)) + (1/(n3-1)) - (1/(n1+n3-1)))\n",
    "    L13 = c13 * ((n1 + n3 - 2)*np.log(np.linalg.det(Sp13)) - (n1-1)*np.log(np.linalg.det(cov1)) - (n3-1)*np.log(np.linalg.det(cov3)))\n",
    "    critical = stats.chi2(df=p*(p+1)/2).ppf(alpha)\n",
    "\n",
    "    ####################################################################################################\n",
    "    ## Printing the results\n",
    "    if (L12 > critical):\n",
    "        print(f\"Rejecting H0 when comparing the methods 1 and 2.\")\n",
    "        equalCov12 = True\n",
    "    else:\n",
    "        print(f\"Accepting H0 when comparing the methods 1 and 2.\")\n",
    "\n",
    "    if (L23 > critical):\n",
    "        print(f\"Rejecting H0 when comparing the methods 2 and 3.\")\n",
    "        equalCov23 = True\n",
    "    else:\n",
    "        print(f\"Accepting H0 when comparing the methods 2 and 3.\")\n",
    "\n",
    "    if (L13 > critical):\n",
    "        print(f\"Rejecting H0 when comparing the methods 1 and 3.\")\n",
    "        equalCov13 = True\n",
    "    else:\n",
    "        print(f\"Accepting H0 when comparing the methods 1 and 3.\")\n",
    "    ####################################################################################################\n",
    "    ## Check for equal mean vector\n",
    "    T12 = 0\n",
    "    T13 = 0\n",
    "    T23 = 0\n",
    "    \n"
   ]
  }
 ],
 "metadata": {
  "interpreter": {
   "hash": "29e30b696cf21e07cfcd1175a6ee821c2fdf41ac327e43107a5155b5df284965"
  },
  "kernelspec": {
   "display_name": "Python 3.7.12 64-bit ('ai3': venv)",
   "name": "python3"
  },
  "language_info": {
   "codemirror_mode": {
    "name": "ipython",
    "version": 3
   },
   "file_extension": ".py",
   "mimetype": "text/x-python",
   "name": "python",
   "nbconvert_exporter": "python",
   "pygments_lexer": "ipython3",
   "version": "3.7.12"
  },
  "orig_nbformat": 4
 },
 "nbformat": 4,
 "nbformat_minor": 2
}
