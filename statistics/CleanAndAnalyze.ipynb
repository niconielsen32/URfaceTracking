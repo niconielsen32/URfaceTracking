{
 "cells": [
  {
   "cell_type": "markdown",
   "metadata": {},
   "source": [
    "# Importing the packages"
   ]
  },
  {
   "cell_type": "code",
   "execution_count": 5,
   "metadata": {},
   "outputs": [],
   "source": [
    "import numpy as np\n",
    "import pandas as pd\n",
    "from scipy import stats\n",
    "from statsmodels.multivariate.manova import MANOVA\n",
    "import seaborn as sns\n",
    "import statsmodels.api as sm\n",
    "from seaborn_qqplot import pplot\n",
    "import math"
   ]
  },
  {
   "cell_type": "markdown",
   "metadata": {},
   "source": [
    "# Pre-analysis\n",
    "## Basic variables"
   ]
  },
  {
   "cell_type": "code",
   "execution_count": 6,
   "metadata": {},
   "outputs": [],
   "source": [
    "mediapipe1Dir = \"../datasets/mediapipe_rectangle.csv\"\n",
    "haar1Dir = \"../datasets/haar_rectangle.csv\"\n",
    "mtcnn1Dir = \"../datasets/mtcnn_rectangle.csv\"\n",
    "\n",
    "dependant = [\"fps\", \"total_avg_displacement_x_abs\", \"total_avg_displacement_y_abs\"]\n",
    "plot_vars = dependant\n",
    "\n",
    "type_dict = {\"fps\": float, \"frames_with_no_detection\": float, \"area_bb\":float, \"total_avg_displacement_x\":float, \"total_avg_displacement_y\":float, \"total_avg_displacement_x_abs\":float, \"total_avg_displacement_y_abs\":float}\n",
    "\n",
    "method_dict = {0: \"mediapipe\", 1: \"haar\", 2: \"mtcnn\"}\n",
    "\n",
    "exp_dict = {0: \"rectangular\", 1: \"\"}\n",
    "\n",
    "alpha = 0.01"
   ]
  },
  {
   "cell_type": "markdown",
   "metadata": {},
   "source": [
    "## Reading the datasets"
   ]
  },
  {
   "cell_type": "code",
   "execution_count": 7,
   "metadata": {},
   "outputs": [
    {
     "name": "stderr",
     "output_type": "stream",
     "text": [
      "/home/pablo/vEnv/ai3/lib/python3.7/site-packages/ipykernel_launcher.py:20: FutureWarning: In a future version of pandas all arguments of DataFrame.dropna will be keyword-only\n"
     ]
    }
   ],
   "source": [
    "mediapipe1 = pd.read_csv(mediapipe1Dir)\n",
    "mediapipe1[\"method\"] = [\"mediapipe\" for i in range(0,mediapipe1.shape[0])]\n",
    "haar1 = pd.read_csv(haar1Dir)\n",
    "haar1[\"method\"] = [\"haar\" for i in range(0,haar1.shape[0])]\n",
    "mtcnn1 = pd.read_csv(mtcnn1Dir)\n",
    "mtcnn1[\"method\"] = [\"mtcnn\" for i in range(0,mtcnn1.shape[0])]\n",
    "\n",
    "experiment1 = pd.concat([mediapipe1, haar1, mtcnn1])\n",
    "\n",
    "exp_list = [experiment1]\n",
    "\n",
    "## Take out repeated indexes\n",
    "for i in range(0, len(exp_list)):\n",
    "    indexes = [i for i in range(0, exp_list[0].shape[0])]\n",
    "    exp_list[0].index = indexes\n",
    "\n",
    "## Asociate adequate type\n",
    "for i in range(0,len(exp_list)):\n",
    "    exp_list[i] = exp_list[i].astype(type_dict)\n",
    "    exp_list[i] = exp_list[i].dropna(0)"
   ]
  },
  {
   "cell_type": "markdown",
   "metadata": {},
   "source": [
    "# Initial analysis"
   ]
  },
  {
   "cell_type": "markdown",
   "metadata": {},
   "source": [
    "## Descriptive statistics"
   ]
  },
  {
   "cell_type": "code",
   "execution_count": null,
   "metadata": {},
   "outputs": [],
   "source": [
    "for i in range(0,len(exp_list)):\n",
    "    print(exp_list[i].describe())"
   ]
  },
  {
   "cell_type": "markdown",
   "metadata": {},
   "source": [
    "## Scatter matrix"
   ]
  },
  {
   "cell_type": "code",
   "execution_count": null,
   "metadata": {},
   "outputs": [],
   "source": [
    "for i in range(0, len(exp_list)):\n",
    "    scatter = sns.pairplot(exp_list[i], hue=\"method\")\n",
    "    scatter.fig.suptitle(f\"Scatter plot for experiment {exp_dict[i]}\")\n",
    "    scatter.fig.subplots_adjust(top=0.95)\n",
    "\n",
    "    scatter.savefig(f\"scatter_{exp_dict[i]}.png\", dpi=200)"
   ]
  },
  {
   "cell_type": "markdown",
   "metadata": {},
   "source": [
    "## Normality check\n",
    "### Shapiro-Wilkinson test\n",
    "\n",
    "A Shapiro-Wilkinson test is performed to check the normality of the sample obtained"
   ]
  },
  {
   "cell_type": "code",
   "execution_count": null,
   "metadata": {},
   "outputs": [],
   "source": [
    "for i in range(0, len(exp_list)):\n",
    "    for j in range(0, 3):\n",
    "        method = exp_list[i].loc[exp_list[i][\"method\"] == method_dict[j],dependant]\n",
    "        print(method)\n",
    "        print(f\" - Results of the Shapiro-Wilkinson test for the experiment {exp_dict[i]} with the method {method_dict[0]}: \\n            {stats.shapiro(method)}\")\n"
   ]
  },
  {
   "cell_type": "markdown",
   "metadata": {},
   "source": [
    "### QQ-plot"
   ]
  },
  {
   "cell_type": "code",
   "execution_count": null,
   "metadata": {},
   "outputs": [],
   "source": [
    "for i in range(0, len(exp_list)):\n",
    "    m1 = exp_list[i].loc[exp_list[i][\"method\"] == method_dict[0],dependant]\n",
    "    cov1 = np.cov(m1.T)\n",
    "    icov1 = np.linalg.inv(cov1)\n",
    "    left_term1 = np.dot((m1 - np.mean(m1)),icov1)\n",
    "    total1 = np.dot(left_term1, (m1 - np.mean(m1)).T)\n",
    "    mahalab1 = np.diag(total1)\n",
    "    chi1 = np.random.chisquare(9,  m1.shape[0])\n",
    "    data1 = pd.DataFrame({\"mahalab\": mahalab1, \"chi\": chi1} )\n",
    "    scatt1 = pplot(x=\"chi\", data=data1, y=\"mahalab\")\n",
    "    scatt1.set(title=f\"QQ-plot for the experiment {exp_dict[i]} with the method {method_dict[0]}\")\n",
    "    scatt1.savefig(f\"qqplot_exp{i}_m1.png\", dpi=300)\n",
    "\n",
    "    m2 = exp_list[i].loc[exp_list[i][\"method\"] == method_dict[1],dependant]\n",
    "    cov2 = np.cov(m2.T)\n",
    "    icov2 = np.linalg.inv(cov2)\n",
    "    left_term2 = np.dot((m2 - np.mean(m2)),icov2)\n",
    "    total2 = np.dot(left_term2, (m2 - np.mean(m2)).T)\n",
    "    mahalab2 = np.diag(total2)\n",
    "    chi2 = np.random.chisquare(9,  m2.shape[0])\n",
    "    data2 = pd.DataFrame({\"mahalab\": mahalab2, \"chi\": chi2} )\n",
    "    scatt2 = pplot(x=\"chi\", data=data2, y=\"mahalab\")\n",
    "    scatt2.set(title=f\"QQ-plot for the experiment {exp_dict[i]} with the method {method_dict[1]}\")\n",
    "    scatt2.savefig(f\"qqplot_exp{i}_m2.png\", dpi=300)\n",
    "\n",
    "    m3 = exp_list[i].loc[exp_list[i][\"method\"] == method_dict[2],dependant]\n",
    "    cov3 = np.cov(m3.T)\n",
    "    icov3 = np.linalg.inv(cov3)\n",
    "    left_term3 = np.dot((m3 - np.mean(m3)),icov3)\n",
    "    total3 = np.dot(left_term3, (m3 - np.mean(m3)).T)\n",
    "    mahalab3 = np.diag(total3)\n",
    "    chi3 = np.random.chisquare(9,  m3.shape[0])\n",
    "    data3 = pd.DataFrame({\"mahalab\": mahalab3, \"chi\": chi3} )\n",
    "    scatt3 = pplot(x=\"chi\", data=data3, y=\"mahalab\")\n",
    "    scatt3.set(title=f\"QQ-plot for the experiment {exp_dict[i]} with the method {method_dict[2]}\")\n",
    "    scatt3.savefig(f\"qqplot_exp{i}_m3.png\", dpi=300)"
   ]
  },
  {
   "cell_type": "markdown",
   "metadata": {},
   "source": [
    "## Tests\n",
    "### MANOVA\n",
    "Performing MANOVA test"
   ]
  },
  {
   "cell_type": "code",
   "execution_count": null,
   "metadata": {},
   "outputs": [],
   "source": []
  },
  {
   "cell_type": "markdown",
   "metadata": {},
   "source": [
    "### Performing a Barttlet test between both populations\n",
    "\n",
    "#### With a Barttlet test we can check whether the covariances can be considered equal. In case they can be considered equal, a test will be performed to check whether the mean can also be considered equal or not in the case of equal covariances. Elsewhere, the test will be performed for the case of unequal covariances matrices."
   ]
  },
  {
   "cell_type": "code",
   "execution_count": null,
   "metadata": {},
   "outputs": [],
   "source": [
    "for i in range(0, len(exp_list)):\n",
    "    ####################################################################################################\n",
    "    ## Declare the datasets for each method\n",
    "    m1 = exp_list[i].loc[exp_list[i][\"method\"] == method_dict[0],dependant]\n",
    "    m1 = exp_list[i].loc[exp_list[i][\"method\"] == method_dict[1],dependant]\n",
    "    m1 = exp_list[i].loc[exp_list[i][\"method\"] == method_dict[2],dependant]\n",
    "\n",
    "    ####################################################################################################\n",
    "    ## Obtain covariance and other relevant variables\n",
    "    cov1 = np.cov(m1.T)\n",
    "    cov2 = np.cov(m2.T)\n",
    "    cov3 = np.cov(m3.T)\n",
    "\n",
    "    n1 = m1.shape[0]\n",
    "    n2 = m2.shape[0]\n",
    "    n3 = m3.shape[0]\n",
    "    p = cov1.shape[0]\n",
    "\n",
    "    Sp12 = ((n1 - 1)*cov1 + (n2 - 1)*cov2)/(n1 + n2 - 2)\n",
    "    Sp13 = ((n1 - 1)*cov1 + (n3 - 1)*cov3)/(n1 + n3 - 2)\n",
    "    Sp23 = ((n3 - 1)*cov3 + (n2 - 1)*cov2)/(n3 + n2 - 2)\n",
    "\n",
    "    equalCov12 = False\n",
    "    equalCov13 = False\n",
    "    equalCov23 = False\n",
    "\n",
    "    ####################################################################################################\n",
    "    ## Barttlet test\n",
    "    c12 = 1 - ((2*p^2 + 3*p - 1)/(6*(p + 1))) * ((1/(n1-1)) + (1/(n1-1)) - (1/(n1+n2-1)))\n",
    "    L12 = c12 * ((n1 + n2 - 2)*np.log(np.linalg.det(Sp12)) - (n1-1)*np.log(np.linalg.det(cov1)) - (n2-1)*np.log(np.linalg.det(cov2)))\n",
    "    c23 = 1 - ((2*p^2 + 3*p - 1)/(6*(p + 1))) * ((1/(n2-1)) + (1/(n3-1)) - (1/(n3+n2-1)))\n",
    "    L23 = c23 * ((n2 + n3 - 2)*np.log(np.linalg.det(Sp23)) - (n2-1)*np.log(np.linalg.det(cov2)) - (n3-1)*np.log(np.linalg.det(cov3)))\n",
    "    c13 = 1 - ((2*p^2 + 3*p - 1)/(6*(p + 1))) * ((1/(n1-1)) + (1/(n3-1)) - (1/(n1+n3-1)))\n",
    "    L13 = c13 * ((n1 + n3 - 2)*np.log(np.linalg.det(Sp13)) - (n1-1)*np.log(np.linalg.det(cov1)) - (n3-1)*np.log(np.linalg.det(cov3)))\n",
    "    critical = stats.chi2(df=p*(p+1)/2).ppf(alpha)\n",
    "\n",
    "    ####################################################################################################\n",
    "    ## Printing the results\n",
    "    if (L12 > critical):\n",
    "        print(f\"Rejecting H0 when comparing the methods 1 and 2.\")\n",
    "        equalCov12 = True\n",
    "    else:\n",
    "        print(f\"Accepting H0 when comparing the methods 1 and 2.\")\n",
    "\n",
    "    if (L23 > critical):\n",
    "        print(f\"Rejecting H0 when comparing the methods 2 and 3.\")\n",
    "        equalCov23 = True\n",
    "    else:\n",
    "        print(f\"Accepting H0 when comparing the methods 2 and 3.\")\n",
    "\n",
    "    if (L13 > critical):\n",
    "        print(f\"Rejecting H0 when comparing the methods 1 and 3.\")\n",
    "        equalCov13 = True\n",
    "    else:\n",
    "        print(f\"Accepting H0 when comparing the methods 1 and 3.\")\n",
    "    ####################################################################################################\n",
    "    ## Check for equal mean vector\n",
    "    T12_sqr = 0\n",
    "    T13_sqr = 0\n",
    "    T23_sqr = 0\n",
    "    f_dist = stats.f\n",
    "\n",
    "    ############################################################################\n",
    "    ## Equal Mean 1-2\n",
    "    if (equalCov12):\n",
    "        left_term = np.dot((np.mean(m1) - np.mean(m2)).T,np.linalg.inv(((1/n1)+ (1/n2))*Sp12))\n",
    "        T12 = np.dot(left_term, (np.mean(m1) - np.mean(m2)).T)\n",
    "        critical = stats.f.ppf(alpha, p, n1 + n2 - p - 1)\n",
    "        T12 = math.sqrt(T12)\n",
    "        critical = c12*critical\n",
    "        if T12 > critical:\n",
    "            print(f\"Rejecting H0: means cannot be considered equal for m1 and m2\")\n",
    "        else:\n",
    "            print(f\"Aceepting H0: means can be considered equal for m1 and m2\")\n",
    "    else:\n",
    "        left_term = np.dot((np.mean(m1) - np.mean(m2)),np.linalg.inv((cov1/n1)+ (cov2/n2)))\n",
    "        T12 = np.dot(left_term, (np.mean(m1) - np.mean(m2)).T)\n",
    "        T12 = (np.mean(m1) - np.mean(m2)) * np.linalg.inv((cov1/n1).T + (cov2/n2).T) * (np.mean(m1) - np.mean(m2)).T\n",
    "        critical = stats.chi2(df=p*(p+1)/2).ppf(alpha)\n",
    "        T12 = T12^(1/2)\n",
    "        critical = c12*critical\n",
    "        if T12 > critical:\n",
    "            print(f\"Rejecting H0: means cannot be considered equal for m1 and m2\")\n",
    "        else:\n",
    "            print(f\"Aceepting H0: means can be considered equal for m1 and m2\")\n",
    "    \n",
    "    ############################################################################\n",
    "    ## Equal Mean 2-3\n",
    "    if (equalCov23):\n",
    "        left_term = np.dot((np.mean(m2) - np.mean(m3)).T,np.linalg.inv(((1/n2)+ (1/n3))*Sp23))\n",
    "        T23 = np.dot(left_term, (np.mean(m2) - np.mean(m3)).T)\n",
    "        critical = stats.f.ppf(alpha, p, n1 + n3 - p - 1)\n",
    "        T23 = math.sqrt(T23)\n",
    "        critical = c23*critical\n",
    "        if T23 > critical:\n",
    "            print(f\"Rejecting H0: means cannot be considered equal for m2 and m3\")\n",
    "        else:\n",
    "            print(f\"Aceepting H0: means can be considered equal for m2 and m3\")\n",
    "    else:\n",
    "        left_term = np.dot((np.mean(m2) - np.mean(m3)),np.linalg.inv((cov2/n2)+ (cov3/n3)))\n",
    "        T23 = np.dot(left_term, (np.mean(m2) - np.mean(m3)).T)\n",
    "        critical = stats.chi2(df=p*(p+1)/2).ppf(alpha)\n",
    "        T23 = math.sqrt(T23)\n",
    "        critical = c23*critical\n",
    "        if T23 > critical:\n",
    "            print(f\"Rejecting H0: means cannot be considered equal for m2 and m3\")\n",
    "        else:\n",
    "            print(f\"Aceepting H0: means can be considered equal for m2 and m3\")\n",
    "\n",
    "    ############################################################################\n",
    "    ## Equal Mean 1-3\n",
    "    if (equalCov13):\n",
    "        left_term = np.dot((np.mean(m1) - np.mean(m3)).T,np.linalg.inv(((1/n1)+ (1/n3))*Sp13))\n",
    "        T13 = np.dot(left_term, (np.mean(m1) - np.mean(m3)).T)\n",
    "        critical = stats.f.ppf(alpha, p, n1 + n3 - p - 1)\n",
    "        T13 = math.sqrt(T13)\n",
    "        critical = c13*critical\n",
    "        if T13 > critical:\n",
    "            print(f\"Rejecting H0: means cannot be considered equal for m1 and m3\")\n",
    "        else:\n",
    "            print(f\"Aceepting H0: means can be considered equal for m1 and m3\")\n",
    "    else:\n",
    "        left_term = np.dot((np.mean(m1) - np.mean(m3)),np.linalg.inv((cov1/n1)+ (cov3/n3)))\n",
    "        T13 = np.dot(left_term, (np.mean(m1) - np.mean(m3)).T)\n",
    "        critical = stats.chi2(df=p*(p+1)/2).ppf(alpha)\n",
    "        T13 = math.sqrt(T13)\n",
    "        critical = c13*critical\n",
    "        if T13 > critical:\n",
    "            print(f\"Rejecting H0: means cannot be considered equal for m1 and m3\")\n",
    "        else:\n",
    "            print(f\"Aceepting H0: means can be considered equal for m1 and m3\")\n"
   ]
  }
 ],
 "metadata": {
  "interpreter": {
   "hash": "29e30b696cf21e07cfcd1175a6ee821c2fdf41ac327e43107a5155b5df284965"
  },
  "kernelspec": {
   "display_name": "Python 3.7.12 64-bit ('ai3': venv)",
   "name": "python3"
  },
  "language_info": {
   "codemirror_mode": {
    "name": "ipython",
    "version": 3
   },
   "file_extension": ".py",
   "mimetype": "text/x-python",
   "name": "python",
   "nbconvert_exporter": "python",
   "pygments_lexer": "ipython3",
   "version": "3.7.12"
  },
  "orig_nbformat": 4
 },
 "nbformat": 4,
 "nbformat_minor": 2
}
