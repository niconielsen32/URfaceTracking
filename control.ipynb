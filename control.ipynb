{
 "cells": [
  {
   "cell_type": "markdown",
   "metadata": {},
   "source": [
    "# UR control application"
   ]
  },
  {
   "cell_type": "markdown",
   "metadata": {},
   "source": [
    "## Setup"
   ]
  },
  {
   "cell_type": "markdown",
   "metadata": {},
   "source": [
    "### Adding the UR related packages for control and communication"
   ]
  },
  {
   "cell_type": "code",
   "execution_count": 1,
   "metadata": {},
   "outputs": [],
   "source": [
    "import rtde_receive\n",
    "import rtde_control\n",
    "import rtde_io"
   ]
  },
  {
   "cell_type": "markdown",
   "metadata": {},
   "source": [
    "### Setting the initial variables"
   ]
  },
  {
   "cell_type": "code",
   "execution_count": 1,
   "metadata": {},
   "outputs": [],
   "source": [
    "ipAddress = \"192.168.3.121\"\n",
    "speedLimit = 0.5\n",
    "accLimit = 0.5\n",
    "homePose = [0, 0, 0, 0, 0, 0]"
   ]
  },
  {
   "cell_type": "markdown",
   "metadata": {},
   "source": [
    "### Setting the robot control variables"
   ]
  },
  {
   "cell_type": "code",
   "execution_count": 3,
   "metadata": {},
   "outputs": [
    {
     "ename": "RuntimeError",
     "evalue": "Timeout connecting to UR dashboard server.",
     "output_type": "error",
     "traceback": [
      "\u001b[0;31m---------------------------------------------------------------------------\u001b[0m",
      "\u001b[0;31mRuntimeError\u001b[0m                              Traceback (most recent call last)",
      "\u001b[0;32m/tmp/ipykernel_36189/1203777177.py\u001b[0m in \u001b[0;36m<module>\u001b[0;34m\u001b[0m\n\u001b[0;32m----> 1\u001b[0;31m \u001b[0mrtde_c\u001b[0m \u001b[0;34m=\u001b[0m \u001b[0mrtde_control\u001b[0m\u001b[0;34m.\u001b[0m\u001b[0mRTDEControlInterface\u001b[0m\u001b[0;34m(\u001b[0m\u001b[0mipAddress\u001b[0m\u001b[0;34m)\u001b[0m\u001b[0;34m\u001b[0m\u001b[0;34m\u001b[0m\u001b[0m\n\u001b[0m\u001b[1;32m      2\u001b[0m \u001b[0mrtde_r\u001b[0m \u001b[0;34m=\u001b[0m \u001b[0mrtde_receive\u001b[0m\u001b[0;34m.\u001b[0m\u001b[0mRTDEReceiveInterface\u001b[0m\u001b[0;34m(\u001b[0m\u001b[0mipAddress\u001b[0m\u001b[0;34m)\u001b[0m\u001b[0;34m\u001b[0m\u001b[0;34m\u001b[0m\u001b[0m\n\u001b[1;32m      3\u001b[0m \u001b[0mrtde_io\u001b[0m \u001b[0;34m=\u001b[0m \u001b[0mrtde_io\u001b[0m\u001b[0;34m.\u001b[0m\u001b[0mRTDEIOInterface\u001b[0m\u001b[0;34m(\u001b[0m\u001b[0mipAddress\u001b[0m\u001b[0;34m)\u001b[0m\u001b[0;34m\u001b[0m\u001b[0;34m\u001b[0m\u001b[0m\n",
      "\u001b[0;31mRuntimeError\u001b[0m: Timeout connecting to UR dashboard server."
     ]
    }
   ],
   "source": [
    "rtde_c = rtde_control.RTDEControlInterface(ipAddress)\n",
    "rtde_r = rtde_receive.RTDEReceiveInterface(ipAddress)\n",
    "rtde_io = rtde_io.RTDEIOInterface(ipAddress)"
   ]
  },
  {
   "cell_type": "markdown",
   "metadata": {},
   "source": [
    "## Connection and adequate functionality tests"
   ]
  },
  {
   "cell_type": "code",
   "execution_count": 4,
   "metadata": {},
   "outputs": [
    {
     "ename": "SyntaxError",
     "evalue": "invalid syntax (1468318767.py, line 3)",
     "output_type": "error",
     "traceback": [
      "\u001b[0;36m  File \u001b[0;32m\"/tmp/ipykernel_36189/1468318767.py\"\u001b[0;36m, line \u001b[0;32m3\u001b[0m\n\u001b[0;31m    while !(rtde_c.isConnected()):\u001b[0m\n\u001b[0m          ^\u001b[0m\n\u001b[0;31mSyntaxError\u001b[0m\u001b[0;31m:\u001b[0m invalid syntax\n"
     ]
    }
   ],
   "source": [
    "# Go home\n",
    "\n",
    "while !rtde_c.isConnected():\n",
    "    rtde_c.reconnect()\n",
    "\n",
    "rtde_c.moveJ(homePose, speedLimit, accLimit)"
   ]
  },
  {
   "cell_type": "markdown",
   "metadata": {},
   "source": [
    "## Different detect methods to be used"
   ]
  },
  {
   "cell_type": "markdown",
   "metadata": {},
   "source": [
    "### Import the functions where the algorithms are executed"
   ]
  },
  {
   "cell_type": "code",
   "execution_count": 7,
   "metadata": {},
   "outputs": [],
   "source": [
    "import detectAlgorithms"
   ]
  },
  {
   "cell_type": "code",
   "execution_count": null,
   "metadata": {},
   "outputs": [],
   "source": []
  },
  {
   "cell_type": "markdown",
   "metadata": {},
   "source": []
  }
 ],
 "metadata": {
  "interpreter": {
   "hash": "386cac48f2504e3c7b30927d466de3b5a5ddf0c60871d3411e25e215dc05b9c0"
  },
  "kernelspec": {
   "display_name": "Python 3.8.10 64-bit ('sdu': venv)",
   "name": "python3"
  },
  "language_info": {
   "codemirror_mode": {
    "name": "ipython",
    "version": 3
   },
   "file_extension": ".py",
   "mimetype": "text/x-python",
   "name": "python",
   "nbconvert_exporter": "python",
   "pygments_lexer": "ipython3",
   "version": "3.8.10"
  }
 },
 "nbformat": 4,
 "nbformat_minor": 5
}
